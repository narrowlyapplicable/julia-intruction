{
 "cells": [
  {
   "cell_type": "markdown",
   "metadata": {},
   "source": [
    "# 「Juliaプログラミングクックブック」7章をJulia1.5で実行する\n",
    "- Juliaのパッケージ群は変更が激しく、Julia1.2想定のレシピはJulia1.5で既に動作しなくなっている。\n",
    "  - 特にDataFrames.jlの変更が大きいため、その扱いを学ぶ第7章について修正版を記録しておく。"
   ]
  },
  {
   "cell_type": "markdown",
   "metadata": {},
   "source": [
    "## 7.4. カテゴリデータを処理する\n",
    "- `levels!`関数がDataFrames.jlには無く、CategoricalArray.jlが必要となる。"
   ]
  },
  {
   "cell_type": "markdown",
   "metadata": {},
   "source": [
    "成績リスト"
   ]
  },
  {
   "cell_type": "code",
   "execution_count": 1,
   "metadata": {},
   "outputs": [
    {
     "data": {
      "text/plain": [
       "13-element Array{String,1}:\n",
       " \"F\"\n",
       " \"D-\"\n",
       " \"D\"\n",
       " \"D+\"\n",
       " \"C-\"\n",
       " \"C\"\n",
       " \"C+\"\n",
       " \"B-\"\n",
       " \"B\"\n",
       " \"B+\"\n",
       " \"A-\"\n",
       " \"A\"\n",
       " \"A+\""
      ]
     },
     "execution_count": 1,
     "metadata": {},
     "output_type": "execute_result"
    }
   ],
   "source": [
    "using DataFrames\n",
    "grade_levels = [\"F\"; [x*y for x in 'D':-1:'A' for y in [\"-\", \"\", \"+\"]]]"
   ]
  },
  {
   "cell_type": "code",
   "execution_count": 2,
   "metadata": {},
   "outputs": [],
   "source": [
    "using Random\n",
    "Random.seed!(1);"
   ]
  },
  {
   "cell_type": "code",
   "execution_count": 3,
   "metadata": {},
   "outputs": [
    {
     "ename": "LoadError",
     "evalue": "UndefVarError: levels! not defined",
     "output_type": "error",
     "traceback": [
      "UndefVarError: levels! not defined",
      "",
      "Stacktrace:",
      " [1] top-level scope at In[3]:2",
      " [2] include_string(::Function, ::Module, ::String, ::String) at ./loading.jl:1091"
     ]
    }
   ],
   "source": [
    "grades = categorical(rand(grade_levels, 100), ordered=true);\n",
    "levels!(grades, grade_levels);\n",
    "df = DataFrame(id=eachindex(grades), grades = grades);"
   ]
  },
  {
   "cell_type": "markdown",
   "metadata": {},
   "source": [
    "`levels!`を使うためにCategoricalArray.jlを使用する。"
   ]
  },
  {
   "cell_type": "code",
   "execution_count": 4,
   "metadata": {},
   "outputs": [],
   "source": [
    "using CategoricalArrays\n",
    "grades = categorical(rand(grade_levels, 100), ordered=true);\n",
    "levels!(grades, grade_levels);\n",
    "df = DataFrame(id=eachindex(grades), grades = grades);"
   ]
  },
  {
   "cell_type": "markdown",
   "metadata": {},
   "source": [
    "順序づけの結果を確認"
   ]
  },
  {
   "cell_type": "code",
   "execution_count": 5,
   "metadata": {},
   "outputs": [
    {
     "data": {
      "text/plain": [
       "true"
      ]
     },
     "execution_count": 5,
     "metadata": {},
     "output_type": "execute_result"
    }
   ],
   "source": [
    "isordered(grades)"
   ]
  },
  {
   "cell_type": "code",
   "execution_count": 6,
   "metadata": {},
   "outputs": [
    {
     "data": {
      "text/plain": [
       "13-element Array{String,1}:\n",
       " \"F\"\n",
       " \"D-\"\n",
       " \"D\"\n",
       " \"D+\"\n",
       " \"C-\"\n",
       " \"C\"\n",
       " \"C+\"\n",
       " \"B-\"\n",
       " \"B\"\n",
       " \"B+\"\n",
       " \"A-\"\n",
       " \"A\"\n",
       " \"A+\""
      ]
     },
     "execution_count": 6,
     "metadata": {},
     "output_type": "execute_result"
    }
   ],
   "source": [
    "levels(grades)"
   ]
  },
  {
   "cell_type": "code",
   "execution_count": 7,
   "metadata": {},
   "outputs": [
    {
     "data": {
      "text/html": [
       "<table class=\"data-frame\"><thead><tr><th></th><th>variable</th><th>eltype</th></tr><tr><th></th><th>Symbol</th><th>DataType</th></tr></thead><tbody><p>2 rows × 2 columns</p><tr><th>1</th><td>id</td><td>Int64</td></tr><tr><th>2</th><td>grades</td><td>CategoricalValue{String,UInt32}</td></tr></tbody></table>"
      ],
      "text/latex": [
       "\\begin{tabular}{r|cc}\n",
       "\t& variable & eltype\\\\\n",
       "\t\\hline\n",
       "\t& Symbol & DataType\\\\\n",
       "\t\\hline\n",
       "\t1 & id & Int64 \\\\\n",
       "\t2 & grades & CategoricalValue\\{String,UInt32\\} \\\\\n",
       "\\end{tabular}\n"
      ],
      "text/plain": [
       "\u001b[1m2×2 DataFrame\u001b[0m\n",
       "\u001b[1m Row \u001b[0m│\u001b[1m variable \u001b[0m\u001b[1m eltype                          \u001b[0m\n",
       "\u001b[1m     \u001b[0m│\u001b[90m Symbol   \u001b[0m\u001b[90m DataType                        \u001b[0m\n",
       "─────┼───────────────────────────────────────────\n",
       "   1 │ id        Int64\n",
       "   2 │ grades    CategoricalValue{String,UInt32}"
      ]
     },
     "execution_count": 7,
     "metadata": {},
     "output_type": "execute_result"
    }
   ],
   "source": [
    "describe(df, :eltype)"
   ]
  },
  {
   "cell_type": "markdown",
   "metadata": {},
   "source": [
    "成績がA以上の生徒のみフィルタ"
   ]
  },
  {
   "cell_type": "code",
   "execution_count": 8,
   "metadata": {},
   "outputs": [
    {
     "data": {
      "text/html": [
       "<table class=\"data-frame\"><thead><tr><th></th><th>id</th><th>grades</th></tr><tr><th></th><th>Int64</th><th>Cat…</th></tr></thead><tbody><p>11 rows × 2 columns</p><tr><th>1</th><td>4</td><td>A+</td></tr><tr><th>2</th><td>10</td><td>A+</td></tr><tr><th>3</th><td>11</td><td>A</td></tr><tr><th>4</th><td>18</td><td>A+</td></tr><tr><th>5</th><td>26</td><td>A</td></tr><tr><th>6</th><td>41</td><td>A+</td></tr><tr><th>7</th><td>63</td><td>A+</td></tr><tr><th>8</th><td>67</td><td>A</td></tr><tr><th>9</th><td>92</td><td>A</td></tr><tr><th>10</th><td>96</td><td>A+</td></tr><tr><th>11</th><td>99</td><td>A</td></tr></tbody></table>"
      ],
      "text/latex": [
       "\\begin{tabular}{r|cc}\n",
       "\t& id & grades\\\\\n",
       "\t\\hline\n",
       "\t& Int64 & Cat…\\\\\n",
       "\t\\hline\n",
       "\t1 & 4 & A+ \\\\\n",
       "\t2 & 10 & A+ \\\\\n",
       "\t3 & 11 & A \\\\\n",
       "\t4 & 18 & A+ \\\\\n",
       "\t5 & 26 & A \\\\\n",
       "\t6 & 41 & A+ \\\\\n",
       "\t7 & 63 & A+ \\\\\n",
       "\t8 & 67 & A \\\\\n",
       "\t9 & 92 & A \\\\\n",
       "\t10 & 96 & A+ \\\\\n",
       "\t11 & 99 & A \\\\\n",
       "\\end{tabular}\n"
      ],
      "text/plain": [
       "\u001b[1m11×2 DataFrame\u001b[0m\n",
       "\u001b[1m Row \u001b[0m│\u001b[1m id    \u001b[0m\u001b[1m grades \u001b[0m\n",
       "\u001b[1m     \u001b[0m│\u001b[90m Int64 \u001b[0m\u001b[90m Cat…   \u001b[0m\n",
       "─────┼───────────────\n",
       "   1 │     4  A+\n",
       "   2 │    10  A+\n",
       "   3 │    11  A\n",
       "   4 │    18  A+\n",
       "   5 │    26  A\n",
       "   6 │    41  A+\n",
       "   7 │    63  A+\n",
       "   8 │    67  A\n",
       "   9 │    92  A\n",
       "  10 │    96  A+\n",
       "  11 │    99  A"
      ]
     },
     "execution_count": 8,
     "metadata": {},
     "output_type": "execute_result"
    }
   ],
   "source": [
    "filter(x -> x.grades > \"A-\", df)"
   ]
  },
  {
   "cell_type": "markdown",
   "metadata": {},
   "source": [
    "## 7.5. 欠損値を扱う"
   ]
  },
  {
   "cell_type": "code",
   "execution_count": 9,
   "metadata": {},
   "outputs": [
    {
     "data": {
      "text/plain": [
       "\"grades.csv\""
      ]
     },
     "execution_count": 9,
     "metadata": {},
     "output_type": "execute_result"
    }
   ],
   "source": [
    "download(\"https://openmv.net/file/class-grades.csv\", \"grades.csv\")"
   ]
  },
  {
   "cell_type": "code",
   "execution_count": 10,
   "metadata": {},
   "outputs": [],
   "source": [
    "using CSV, DataFrames, Statistics"
   ]
  },
  {
   "cell_type": "code",
   "execution_count": 11,
   "metadata": {},
   "outputs": [
    {
     "ename": "LoadError",
     "evalue": "ArgumentError: provide a valid sink argument, like `using DataFrames; CSV.read(source, DataFrame)`",
     "output_type": "error",
     "traceback": [
      "ArgumentError: provide a valid sink argument, like `using DataFrames; CSV.read(source, DataFrame)`",
      "",
      "Stacktrace:",
      " [1] read(::String, ::Nothing; copycols::Bool, kwargs::Base.Iterators.Pairs{Union{},Union{},Tuple{},NamedTuple{(),Tuple{}}}) at /Users/yusuketamai/.julia/packages/CSV/YUbbG/src/CSV.jl:43",
      " [2] read(::String, ::Nothing) at /Users/yusuketamai/.julia/packages/CSV/YUbbG/src/CSV.jl:42 (repeats 2 times)",
      " [3] top-level scope at In[11]:1",
      " [4] include_string(::Function, ::Module, ::String, ::String) at ./loading.jl:1091"
     ]
    }
   ],
   "source": [
    "df = CSV.read(\"grades.csv\");"
   ]
  },
  {
   "cell_type": "markdown",
   "metadata": {},
   "source": [
    "`CSV.read()`が廃止されているため、以下のいずれかに改める必要がある。\n",
    "- `df = DataFrame!(CSV.File())`\n",
    "- `df = CSV.File() |> DataFrame`"
   ]
  },
  {
   "cell_type": "code",
   "execution_count": 12,
   "metadata": {},
   "outputs": [
    {
     "name": "stderr",
     "output_type": "stream",
     "text": [
      "┌ Warning: thread = 1 warning: parsed expected 6 columns, but didn't reach end of line around data row: 22. Ignoring any extra columns on this row\n",
      "└ @ CSV /Users/yusuketamai/.julia/packages/CSV/YUbbG/src/file.jl:604\n",
      "┌ Warning: thread = 1 warning: parsed expected 6 columns, but didn't reach end of line around data row: 40. Ignoring any extra columns on this row\n",
      "└ @ CSV /Users/yusuketamai/.julia/packages/CSV/YUbbG/src/file.jl:604\n",
      "┌ Warning: thread = 1 warning: parsed expected 6 columns, but didn't reach end of line around data row: 62. Ignoring any extra columns on this row\n",
      "└ @ CSV /Users/yusuketamai/.julia/packages/CSV/YUbbG/src/file.jl:604\n"
     ]
    }
   ],
   "source": [
    "df = DataFrame!(CSV.File(\"grades.csv\"));"
   ]
  },
  {
   "cell_type": "markdown",
   "metadata": {},
   "source": [
    "- ここで既にvalidateの結果が表示されている。"
   ]
  },
  {
   "cell_type": "code",
   "execution_count": 13,
   "metadata": {},
   "outputs": [
    {
     "data": {
      "text/plain": [
       "\"99×6 DataFrame\""
      ]
     },
     "execution_count": 13,
     "metadata": {},
     "output_type": "execute_result"
    }
   ],
   "source": [
    "summary(df)"
   ]
  },
  {
   "cell_type": "code",
   "execution_count": 14,
   "metadata": {},
   "outputs": [
    {
     "data": {
      "text/html": [
       "<table class=\"data-frame\"><thead><tr><th></th><th>variable</th><th>min</th><th>max</th><th>nmissing</th></tr><tr><th></th><th>Symbol</th><th>Real</th><th>Real</th><th>Int64</th></tr></thead><tbody><p>6 rows × 4 columns</p><tr><th>1</th><td>Prefix</td><td>4</td><td>8</td><td>0</td></tr><tr><th>2</th><td>Assignment</td><td>28.14</td><td>100.83</td><td>0</td></tr><tr><th>3</th><td>Tutorial</td><td>34.09</td><td>112.58</td><td>0</td></tr><tr><th>4</th><td>Midterm</td><td>28.12</td><td>110.0</td><td>0</td></tr><tr><th>5</th><td>TakeHome</td><td>16.91</td><td>108.89</td><td>1</td></tr><tr><th>6</th><td>Final</td><td>28.06</td><td>108.89</td><td>3</td></tr></tbody></table>"
      ],
      "text/latex": [
       "\\begin{tabular}{r|cccc}\n",
       "\t& variable & min & max & nmissing\\\\\n",
       "\t\\hline\n",
       "\t& Symbol & Real & Real & Int64\\\\\n",
       "\t\\hline\n",
       "\t1 & Prefix & 4 & 8 & 0 \\\\\n",
       "\t2 & Assignment & 28.14 & 100.83 & 0 \\\\\n",
       "\t3 & Tutorial & 34.09 & 112.58 & 0 \\\\\n",
       "\t4 & Midterm & 28.12 & 110.0 & 0 \\\\\n",
       "\t5 & TakeHome & 16.91 & 108.89 & 1 \\\\\n",
       "\t6 & Final & 28.06 & 108.89 & 3 \\\\\n",
       "\\end{tabular}\n"
      ],
      "text/plain": [
       "\u001b[1m6×4 DataFrame\u001b[0m\n",
       "\u001b[1m Row \u001b[0m│\u001b[1m variable   \u001b[0m\u001b[1m min   \u001b[0m\u001b[1m max    \u001b[0m\u001b[1m nmissing \u001b[0m\n",
       "\u001b[1m     \u001b[0m│\u001b[90m Symbol     \u001b[0m\u001b[90m Real  \u001b[0m\u001b[90m Real   \u001b[0m\u001b[90m Int64    \u001b[0m\n",
       "─────┼─────────────────────────────────────\n",
       "   1 │ Prefix          4       8         0\n",
       "   2 │ Assignment  28.14  100.83         0\n",
       "   3 │ Tutorial    34.09  112.58         0\n",
       "   4 │ Midterm     28.12   110.0         0\n",
       "   5 │ TakeHome    16.91  108.89         1\n",
       "   6 │ Final       28.06  108.89         3"
      ]
     },
     "execution_count": 14,
     "metadata": {},
     "output_type": "execute_result"
    }
   ],
   "source": [
    "describe(df, :min, :max, :nmissing)"
   ]
  },
  {
   "cell_type": "code",
   "execution_count": 15,
   "metadata": {},
   "outputs": [
    {
     "ename": "LoadError",
     "evalue": "UndefVarError: validate not defined",
     "output_type": "error",
     "traceback": [
      "UndefVarError: validate not defined",
      "",
      "Stacktrace:",
      " [1] getproperty(::Module, ::Symbol) at ./Base.jl:26",
      " [2] top-level scope at In[15]:1",
      " [3] include_string(::Function, ::Module, ::String, ::String) at ./loading.jl:1091"
     ]
    }
   ],
   "source": [
    "CSV.validate(\"grades.csv\")"
   ]
  },
  {
   "cell_type": "markdown",
   "metadata": {},
   "source": [
    "`CSV.validate()`も廃止されている"
   ]
  },
  {
   "cell_type": "code",
   "execution_count": 16,
   "metadata": {},
   "outputs": [
    {
     "data": {
      "text/plain": [
       "6×6 Array{Union{Missing, Float64},2}:\n",
       "  1.0        0.0224759  0.431078  -0.0625435  missing  missing\n",
       "  0.0224759  1.0        0.440115   0.215868   missing  missing\n",
       "  0.431078   0.440115   1.0        0.135597   missing  missing\n",
       " -0.0625435  0.215868   0.135597   1.0        missing  missing\n",
       "   missing    missing    missing    missing   missing  missing\n",
       "   missing    missing    missing    missing   missing  missing"
      ]
     },
     "execution_count": 16,
     "metadata": {},
     "output_type": "execute_result"
    }
   ],
   "source": [
    "[cor(df[!, i], df[!, j]) for i in axes(df, 2), j in axes(df, 2)]"
   ]
  },
  {
   "cell_type": "code",
   "execution_count": 17,
   "metadata": {},
   "outputs": [],
   "source": [
    "df2 = dropmissing(df);"
   ]
  },
  {
   "cell_type": "code",
   "execution_count": 18,
   "metadata": {},
   "outputs": [
    {
     "data": {
      "text/html": [
       "<table class=\"data-frame\"><thead><tr><th></th><th>variable</th><th>nmissing</th></tr><tr><th></th><th>Symbol</th><th>Int64</th></tr></thead><tbody><p>6 rows × 2 columns</p><tr><th>1</th><td>Prefix</td><td>0</td></tr><tr><th>2</th><td>Assignment</td><td>0</td></tr><tr><th>3</th><td>Tutorial</td><td>0</td></tr><tr><th>4</th><td>Midterm</td><td>0</td></tr><tr><th>5</th><td>TakeHome</td><td>0</td></tr><tr><th>6</th><td>Final</td><td>0</td></tr></tbody></table>"
      ],
      "text/latex": [
       "\\begin{tabular}{r|cc}\n",
       "\t& variable & nmissing\\\\\n",
       "\t\\hline\n",
       "\t& Symbol & Int64\\\\\n",
       "\t\\hline\n",
       "\t1 & Prefix & 0 \\\\\n",
       "\t2 & Assignment & 0 \\\\\n",
       "\t3 & Tutorial & 0 \\\\\n",
       "\t4 & Midterm & 0 \\\\\n",
       "\t5 & TakeHome & 0 \\\\\n",
       "\t6 & Final & 0 \\\\\n",
       "\\end{tabular}\n"
      ],
      "text/plain": [
       "\u001b[1m6×2 DataFrame\u001b[0m\n",
       "\u001b[1m Row \u001b[0m│\u001b[1m variable   \u001b[0m\u001b[1m nmissing \u001b[0m\n",
       "\u001b[1m     \u001b[0m│\u001b[90m Symbol     \u001b[0m\u001b[90m Int64    \u001b[0m\n",
       "─────┼──────────────────────\n",
       "   1 │ Prefix             0\n",
       "   2 │ Assignment         0\n",
       "   3 │ Tutorial           0\n",
       "   4 │ Midterm            0\n",
       "   5 │ TakeHome           0\n",
       "   6 │ Final              0"
      ]
     },
     "execution_count": 18,
     "metadata": {},
     "output_type": "execute_result"
    }
   ],
   "source": [
    "describe(df2, :nmissing)"
   ]
  },
  {
   "cell_type": "code",
   "execution_count": 19,
   "metadata": {},
   "outputs": [
    {
     "data": {
      "text/plain": [
       "6×6 Array{Float64,2}:\n",
       "  1.0        0.0484327  0.434525  -0.0586403  -0.0689997  0.0881758\n",
       "  0.0484327  1.0        0.459001   0.200715    0.483206   0.286304\n",
       "  0.434525   0.459001   1.0        0.148637    0.238167   0.23987\n",
       " -0.0586403  0.200715   0.148637   1.0         0.42719    0.724478\n",
       " -0.0689997  0.483206   0.238167   0.42719     1.0        0.474231\n",
       "  0.0881758  0.286304   0.23987    0.724478    0.474231   1.0"
      ]
     },
     "execution_count": 19,
     "metadata": {},
     "output_type": "execute_result"
    }
   ],
   "source": [
    "[cor(df2[!, i], df2[!, j]) for i in axes(df2, 2), j in axes(df2, 2)]"
   ]
  },
  {
   "cell_type": "code",
   "execution_count": 20,
   "metadata": {},
   "outputs": [
    {
     "data": {
      "text/plain": [
       "cor2 (generic function with 1 method)"
      ]
     },
     "execution_count": 20,
     "metadata": {},
     "output_type": "execute_result"
    }
   ],
   "source": [
    "function cor2(x, y)\n",
    "    df = dropmissing(DataFrame([x, y]))\n",
    "    cor(df[!, 1], df[!, 2])\n",
    "end"
   ]
  },
  {
   "cell_type": "code",
   "execution_count": 21,
   "metadata": {},
   "outputs": [
    {
     "data": {
      "text/plain": [
       "6×6 Array{Float64,2}:\n",
       "  1.0        0.0224759  0.431078  -0.0625435  -0.0916684  0.0902548\n",
       "  0.0224759  1.0        0.440115   0.215868    0.492297   0.291232\n",
       "  0.431078   0.440115   1.0        0.135597    0.209513   0.240551\n",
       " -0.0625435  0.215868   0.135597   1.0         0.442408   0.725121\n",
       " -0.0916684  0.492297   0.209513   0.442408    1.0        0.474231\n",
       "  0.0902548  0.291232   0.240551   0.725121    0.474231   1.0"
      ]
     },
     "execution_count": 21,
     "metadata": {},
     "output_type": "execute_result"
    }
   ],
   "source": [
    "[cor2(df[!, i], df[!, j]) for i in axes(df, 2), j in axes(df, 2)]"
   ]
  },
  {
   "cell_type": "markdown",
   "metadata": {},
   "source": [
    "## 7.6. データフレームを使って分割・適用・結合を行う"
   ]
  },
  {
   "cell_type": "code",
   "execution_count": 23,
   "metadata": {},
   "outputs": [],
   "source": [
    "df = CSV.File(\"06. データフレームを使って分割‐適用‐結合を行う/iris.csv\", footerskip=1, \n",
    "              header=[\"PetalLength\", \"PetalWidth\", \"SepalLength\", \"SepalWidth\", \"Class\"]) |> DataFrame;"
   ]
  },
  {
   "cell_type": "code",
   "execution_count": 24,
   "metadata": {},
   "outputs": [
    {
     "data": {
      "text/html": [
       "<table class=\"data-frame\"><thead><tr><th></th><th>variable</th><th>mean</th><th>min</th><th>median</th><th>max</th><th>nmissing</th><th>eltype</th></tr><tr><th></th><th>Symbol</th><th>Union…</th><th>Any</th><th>Union…</th><th>Any</th><th>Int64</th><th>DataType</th></tr></thead><tbody><p>5 rows × 7 columns</p><tr><th>1</th><td>PetalLength</td><td>5.84333</td><td>4.3</td><td>5.8</td><td>7.9</td><td>0</td><td>Float64</td></tr><tr><th>2</th><td>PetalWidth</td><td>3.054</td><td>2.0</td><td>3.0</td><td>4.4</td><td>0</td><td>Float64</td></tr><tr><th>3</th><td>SepalLength</td><td>3.75867</td><td>1.0</td><td>4.35</td><td>6.9</td><td>0</td><td>Float64</td></tr><tr><th>4</th><td>SepalWidth</td><td>1.19867</td><td>0.1</td><td>1.3</td><td>2.5</td><td>0</td><td>Float64</td></tr><tr><th>5</th><td>Class</td><td></td><td>Iris-setosa</td><td></td><td>Iris-virginica</td><td>0</td><td>String</td></tr></tbody></table>"
      ],
      "text/latex": [
       "\\begin{tabular}{r|ccccccc}\n",
       "\t& variable & mean & min & median & max & nmissing & eltype\\\\\n",
       "\t\\hline\n",
       "\t& Symbol & Union… & Any & Union… & Any & Int64 & DataType\\\\\n",
       "\t\\hline\n",
       "\t1 & PetalLength & 5.84333 & 4.3 & 5.8 & 7.9 & 0 & Float64 \\\\\n",
       "\t2 & PetalWidth & 3.054 & 2.0 & 3.0 & 4.4 & 0 & Float64 \\\\\n",
       "\t3 & SepalLength & 3.75867 & 1.0 & 4.35 & 6.9 & 0 & Float64 \\\\\n",
       "\t4 & SepalWidth & 1.19867 & 0.1 & 1.3 & 2.5 & 0 & Float64 \\\\\n",
       "\t5 & Class &  & Iris-setosa &  & Iris-virginica & 0 & String \\\\\n",
       "\\end{tabular}\n"
      ],
      "text/plain": [
       "\u001b[1m5×7 DataFrame\u001b[0m\n",
       "\u001b[1m Row \u001b[0m│\u001b[1m variable    \u001b[0m\u001b[1m mean    \u001b[0m\u001b[1m min         \u001b[0m\u001b[1m median \u001b[0m\u001b[1m max            \u001b[0m\u001b[1m nmissing \u001b[0m\u001b[1m el\u001b[0m ⋯\n",
       "\u001b[1m     \u001b[0m│\u001b[90m Symbol      \u001b[0m\u001b[90m Union…  \u001b[0m\u001b[90m Any         \u001b[0m\u001b[90m Union… \u001b[0m\u001b[90m Any            \u001b[0m\u001b[90m Int64    \u001b[0m\u001b[90m Da\u001b[0m ⋯\n",
       "─────┼──────────────────────────────────────────────────────────────────────────\n",
       "   1 │ PetalLength  5.84333  4.3          5.8     7.9                    0  Fl ⋯\n",
       "   2 │ PetalWidth   3.054    2.0          3.0     4.4                    0  Fl\n",
       "   3 │ SepalLength  3.75867  1.0          4.35    6.9                    0  Fl\n",
       "   4 │ SepalWidth   1.19867  0.1          1.3     2.5                    0  Fl\n",
       "   5 │ Class       \u001b[90m         \u001b[0m Iris-setosa \u001b[90m        \u001b[0m Iris-virginica         0  St ⋯\n",
       "\u001b[36m                                                                1 column omitted\u001b[0m"
      ]
     },
     "execution_count": 24,
     "metadata": {},
     "output_type": "execute_result"
    }
   ],
   "source": [
    "describe(df)"
   ]
  },
  {
   "cell_type": "code",
   "execution_count": 25,
   "metadata": {},
   "outputs": [
    {
     "ename": "LoadError",
     "evalue": "ArgumentError: by function was removed from DataFrames.jl. Use the `combine(groupby(...), ...)` or `combine(f, groupby(...))` instead.",
     "output_type": "error",
     "traceback": [
      "ArgumentError: by function was removed from DataFrames.jl. Use the `combine(groupby(...), ...)` or `combine(f, groupby(...))` instead.",
      "",
      "Stacktrace:",
      " [1] by(::Function, ::Vararg{Any,N} where N; kwargs::Base.Iterators.Pairs{Union{},Union{},Tuple{},NamedTuple{(),Tuple{}}}) at /Users/yusuketamai/.julia/packages/DataFrames/mlhk7/src/deprecated.jl:6",
      " [2] by(::Function, ::Vararg{Any,N} where N) at /Users/yusuketamai/.julia/packages/DataFrames/mlhk7/src/deprecated.jl:6",
      " [3] top-level scope at In[25]:2",
      " [4] include_string(::Function, ::Module, ::String, ::String) at ./loading.jl:1091"
     ]
    }
   ],
   "source": [
    "using Statistics\n",
    "by(df, :Class) do x\n",
    "    DataFrame(n = nrow(x),\n",
    "            mean = mean(x.SepalWidth),\n",
    "            std = std(x.SepalWidth))\n",
    "end"
   ]
  },
  {
   "cell_type": "markdown",
   "metadata": {},
   "source": [
    "`by()`も廃止されており、やや勝手は異なるが`groupby()`と`combine()`で代用する。"
   ]
  },
  {
   "cell_type": "code",
   "execution_count": 26,
   "metadata": {},
   "outputs": [
    {
     "data": {
      "text/html": [
       "<table class=\"data-frame\"><thead><tr><th></th><th>Class</th><th>SepalWidth_mean</th></tr><tr><th></th><th>String</th><th>Float64</th></tr></thead><tbody><p>3 rows × 2 columns</p><tr><th>1</th><td>Iris-setosa</td><td>0.244</td></tr><tr><th>2</th><td>Iris-versicolor</td><td>1.326</td></tr><tr><th>3</th><td>Iris-virginica</td><td>2.026</td></tr></tbody></table>"
      ],
      "text/latex": [
       "\\begin{tabular}{r|cc}\n",
       "\t& Class & SepalWidth\\_mean\\\\\n",
       "\t\\hline\n",
       "\t& String & Float64\\\\\n",
       "\t\\hline\n",
       "\t1 & Iris-setosa & 0.244 \\\\\n",
       "\t2 & Iris-versicolor & 1.326 \\\\\n",
       "\t3 & Iris-virginica & 2.026 \\\\\n",
       "\\end{tabular}\n"
      ],
      "text/plain": [
       "\u001b[1m3×2 DataFrame\u001b[0m\n",
       "\u001b[1m Row \u001b[0m│\u001b[1m Class           \u001b[0m\u001b[1m SepalWidth_mean \u001b[0m\n",
       "\u001b[1m     \u001b[0m│\u001b[90m String          \u001b[0m\u001b[90m Float64         \u001b[0m\n",
       "─────┼──────────────────────────────────\n",
       "   1 │ Iris-setosa                0.244\n",
       "   2 │ Iris-versicolor            1.326\n",
       "   3 │ Iris-virginica             2.026"
      ]
     },
     "execution_count": 26,
     "metadata": {},
     "output_type": "execute_result"
    }
   ],
   "source": [
    "gdf = groupby(df, :Class)\n",
    "combine(gdf, :SepalWidth => mean)"
   ]
  },
  {
   "cell_type": "markdown",
   "metadata": {},
   "source": [
    "より正確に再現するなら、やや長くなるが"
   ]
  },
  {
   "cell_type": "code",
   "execution_count": 35,
   "metadata": {},
   "outputs": [
    {
     "data": {
      "text/html": [
       "<table class=\"data-frame\"><thead><tr><th></th><th>Class</th><th>nrow</th><th>mean</th><th>std</th></tr><tr><th></th><th>String</th><th>Int64</th><th>Float64</th><th>Float64</th></tr></thead><tbody><p>3 rows × 4 columns</p><tr><th>1</th><td>Iris-setosa</td><td>50</td><td>0.244</td><td>0.10721</td></tr><tr><th>2</th><td>Iris-versicolor</td><td>50</td><td>1.326</td><td>0.197753</td></tr><tr><th>3</th><td>Iris-virginica</td><td>50</td><td>2.026</td><td>0.27465</td></tr></tbody></table>"
      ],
      "text/latex": [
       "\\begin{tabular}{r|cccc}\n",
       "\t& Class & nrow & mean & std\\\\\n",
       "\t\\hline\n",
       "\t& String & Int64 & Float64 & Float64\\\\\n",
       "\t\\hline\n",
       "\t1 & Iris-setosa & 50 & 0.244 & 0.10721 \\\\\n",
       "\t2 & Iris-versicolor & 50 & 1.326 & 0.197753 \\\\\n",
       "\t3 & Iris-virginica & 50 & 2.026 & 0.27465 \\\\\n",
       "\\end{tabular}\n"
      ],
      "text/plain": [
       "\u001b[1m3×4 DataFrame\u001b[0m\n",
       "\u001b[1m Row \u001b[0m│\u001b[1m Class           \u001b[0m\u001b[1m nrow  \u001b[0m\u001b[1m mean    \u001b[0m\u001b[1m std      \u001b[0m\n",
       "\u001b[1m     \u001b[0m│\u001b[90m String          \u001b[0m\u001b[90m Int64 \u001b[0m\u001b[90m Float64 \u001b[0m\u001b[90m Float64  \u001b[0m\n",
       "─────┼───────────────────────────────────────────\n",
       "   1 │ Iris-setosa         50    0.244  0.10721\n",
       "   2 │ Iris-versicolor     50    1.326  0.197753\n",
       "   3 │ Iris-virginica      50    2.026  0.27465"
      ]
     },
     "execution_count": 35,
     "metadata": {},
     "output_type": "execute_result"
    }
   ],
   "source": [
    "combine(gdf, nrow, :SepalWidth => mean => :mean, :SepalWidth => std => :std)"
   ]
  },
  {
   "cell_type": "markdown",
   "metadata": {},
   "source": [
    "## 7.7. 縦型と横型を変換する"
   ]
  },
  {
   "cell_type": "code",
   "execution_count": 36,
   "metadata": {},
   "outputs": [],
   "source": [
    "df.id = axes(df, 1);"
   ]
  },
  {
   "cell_type": "markdown",
   "metadata": {},
   "source": [
    "縦型に変換"
   ]
  },
  {
   "cell_type": "code",
   "execution_count": 37,
   "metadata": {},
   "outputs": [
    {
     "data": {
      "text/html": [
       "<table class=\"data-frame\"><thead><tr><th></th><th>Class</th><th>id</th><th>variable</th><th>value</th></tr><tr><th></th><th>String</th><th>Int64</th><th>String</th><th>Float64</th></tr></thead><tbody><p>3 rows × 4 columns</p><tr><th>1</th><td>Iris-setosa</td><td>1</td><td>PetalLength</td><td>5.1</td></tr><tr><th>2</th><td>Iris-setosa</td><td>2</td><td>PetalLength</td><td>4.9</td></tr><tr><th>3</th><td>Iris-setosa</td><td>3</td><td>PetalLength</td><td>4.7</td></tr></tbody></table>"
      ],
      "text/latex": [
       "\\begin{tabular}{r|cccc}\n",
       "\t& Class & id & variable & value\\\\\n",
       "\t\\hline\n",
       "\t& String & Int64 & String & Float64\\\\\n",
       "\t\\hline\n",
       "\t1 & Iris-setosa & 1 & PetalLength & 5.1 \\\\\n",
       "\t2 & Iris-setosa & 2 & PetalLength & 4.9 \\\\\n",
       "\t3 & Iris-setosa & 3 & PetalLength & 4.7 \\\\\n",
       "\\end{tabular}\n"
      ],
      "text/plain": [
       "\u001b[1m3×4 DataFrame\u001b[0m\n",
       "\u001b[1m Row \u001b[0m│\u001b[1m Class       \u001b[0m\u001b[1m id    \u001b[0m\u001b[1m variable    \u001b[0m\u001b[1m value   \u001b[0m\n",
       "\u001b[1m     \u001b[0m│\u001b[90m String      \u001b[0m\u001b[90m Int64 \u001b[0m\u001b[90m String      \u001b[0m\u001b[90m Float64 \u001b[0m\n",
       "─────┼──────────────────────────────────────────\n",
       "   1 │ Iris-setosa      1  PetalLength      5.1\n",
       "   2 │ Iris-setosa      2  PetalLength      4.9\n",
       "   3 │ Iris-setosa      3  PetalLength      4.7"
      ]
     },
     "execution_count": 37,
     "metadata": {},
     "output_type": "execute_result"
    }
   ],
   "source": [
    "sdf = stack(df);\n",
    "first(sdf, 3)"
   ]
  },
  {
   "cell_type": "markdown",
   "metadata": {},
   "source": [
    "横型に変換"
   ]
  },
  {
   "cell_type": "code",
   "execution_count": 38,
   "metadata": {},
   "outputs": [],
   "source": [
    "udf = unstack(sdf, :variable, :value);"
   ]
  },
  {
   "cell_type": "code",
   "execution_count": 39,
   "metadata": {},
   "outputs": [
    {
     "data": {
      "text/plain": [
       "6-element Array{String,1}:\n",
       " \"Class\"\n",
       " \"id\"\n",
       " \"PetalLength\"\n",
       " \"PetalWidth\"\n",
       " \"SepalLength\"\n",
       " \"SepalWidth\""
      ]
     },
     "execution_count": 39,
     "metadata": {},
     "output_type": "execute_result"
    }
   ],
   "source": [
    "names(udf)"
   ]
  },
  {
   "cell_type": "markdown",
   "metadata": {},
   "source": [
    "変換前後の同一性判定"
   ]
  },
  {
   "cell_type": "code",
   "execution_count": 41,
   "metadata": {},
   "outputs": [
    {
     "ename": "LoadError",
     "evalue": "UndefVarError: permutecols! not defined",
     "output_type": "error",
     "traceback": [
      "UndefVarError: permutecols! not defined",
      "",
      "Stacktrace:",
      " [1] top-level scope at In[41]:1",
      " [2] include_string(::Function, ::Module, ::String, ::String) at ./loading.jl:1091"
     ]
    }
   ],
   "source": [
    "permutecols!(udf, names(df));\n",
    "df == udf"
   ]
  },
  {
   "cell_type": "markdown",
   "metadata": {},
   "source": [
    "- `permutecols!()`が廃止されているが、ここは単純な操作で回避できる"
   ]
  },
  {
   "cell_type": "code",
   "execution_count": 42,
   "metadata": {},
   "outputs": [
    {
     "data": {
      "text/plain": [
       "true"
      ]
     },
     "execution_count": 42,
     "metadata": {},
     "output_type": "execute_result"
    }
   ],
   "source": [
    "df == udf[:, names(df)]"
   ]
  },
  {
   "cell_type": "markdown",
   "metadata": {},
   "source": [
    "この後の集計部分は、7.6.と同様 `by()`に変えて`groupby()`と`combine()`を使えばOK"
   ]
  },
  {
   "cell_type": "markdown",
   "metadata": {},
   "source": [
    "## 7.8. データフレームの同一性を判定する"
   ]
  },
  {
   "cell_type": "markdown",
   "metadata": {},
   "source": [
    "これまでと同様`CSV.read()`を代替"
   ]
  },
  {
   "cell_type": "code",
   "execution_count": 44,
   "metadata": {},
   "outputs": [
    {
     "name": "stderr",
     "output_type": "stream",
     "text": [
      "┌ Warning: thread = 1 warning: parsed expected 6 columns, but didn't reach end of line around data row: 22. Ignoring any extra columns on this row\n",
      "└ @ CSV /Users/yusuketamai/.julia/packages/CSV/YUbbG/src/file.jl:604\n",
      "┌ Warning: thread = 1 warning: parsed expected 6 columns, but didn't reach end of line around data row: 40. Ignoring any extra columns on this row\n",
      "└ @ CSV /Users/yusuketamai/.julia/packages/CSV/YUbbG/src/file.jl:604\n",
      "┌ Warning: thread = 1 warning: parsed expected 6 columns, but didn't reach end of line around data row: 62. Ignoring any extra columns on this row\n",
      "└ @ CSV /Users/yusuketamai/.julia/packages/CSV/YUbbG/src/file.jl:604\n"
     ]
    },
    {
     "data": {
      "text/html": [
       "<table class=\"data-frame\"><thead><tr><th></th><th>Prefix</th><th>Assignment</th><th>Tutorial</th><th>Midterm</th><th>TakeHome</th><th>Final</th></tr><tr><th></th><th>Int64</th><th>Float64</th><th>Float64</th><th>Float64</th><th>Float64?</th><th>Float64?</th></tr></thead><tbody><p>3 rows × 6 columns</p><tr><th>1</th><td>5</td><td>57.14</td><td>34.09</td><td>64.38</td><td>51.48</td><td>52.5</td></tr><tr><th>2</th><td>8</td><td>95.05</td><td>105.49</td><td>67.5</td><td>99.07</td><td>68.33</td></tr><tr><th>3</th><td>8</td><td>83.7</td><td>83.17</td><td>30.0</td><td>63.15</td><td>48.89</td></tr></tbody></table>"
      ],
      "text/latex": [
       "\\begin{tabular}{r|cccccc}\n",
       "\t& Prefix & Assignment & Tutorial & Midterm & TakeHome & Final\\\\\n",
       "\t\\hline\n",
       "\t& Int64 & Float64 & Float64 & Float64 & Float64? & Float64?\\\\\n",
       "\t\\hline\n",
       "\t1 & 5 & 57.14 & 34.09 & 64.38 & 51.48 & 52.5 \\\\\n",
       "\t2 & 8 & 95.05 & 105.49 & 67.5 & 99.07 & 68.33 \\\\\n",
       "\t3 & 8 & 83.7 & 83.17 & 30.0 & 63.15 & 48.89 \\\\\n",
       "\\end{tabular}\n"
      ],
      "text/plain": [
       "\u001b[1m3×6 DataFrame\u001b[0m\n",
       "\u001b[1m Row \u001b[0m│\u001b[1m Prefix \u001b[0m\u001b[1m Assignment \u001b[0m\u001b[1m Tutorial \u001b[0m\u001b[1m Midterm \u001b[0m\u001b[1m TakeHome \u001b[0m\u001b[1m Final    \u001b[0m\n",
       "\u001b[1m     \u001b[0m│\u001b[90m Int64  \u001b[0m\u001b[90m Float64    \u001b[0m\u001b[90m Float64  \u001b[0m\u001b[90m Float64 \u001b[0m\u001b[90m Float64? \u001b[0m\u001b[90m Float64? \u001b[0m\n",
       "─────┼───────────────────────────────────────────────────────────\n",
       "   1 │      5       57.14     34.09    64.38     51.48     52.5\n",
       "   2 │      8       95.05    105.49    67.5      99.07     68.33\n",
       "   3 │      8       83.7      83.17    30.0      63.15     48.89"
      ]
     },
     "execution_count": 44,
     "metadata": {},
     "output_type": "execute_result"
    }
   ],
   "source": [
    "df1 = DataFrame!(CSV.File(\"grades.csv\"));\n",
    "first(df1, 3)"
   ]
  },
  {
   "cell_type": "code",
   "execution_count": 45,
   "metadata": {},
   "outputs": [
    {
     "data": {
      "text/html": [
       "<table class=\"data-frame\"><thead><tr><th></th><th>Tutorial</th><th>TakeHome</th><th>Prefix</th><th>Assignment</th><th>Final</th><th>Midterm</th></tr><tr><th></th><th>Float64</th><th>Float64?</th><th>Int64</th><th>Float64</th><th>Float64?</th><th>Float64</th></tr></thead><tbody><p>3 rows × 6 columns</p><tr><th>1</th><td>70.24</td><td>52.41</td><td>6</td><td>95.05</td><td>47.78</td><td>52.5</td></tr><tr><th>2</th><td>58.51</td><td>53.7</td><td>6</td><td>28.14</td><td>68.33</td><td>72.5</td></tr><tr><th>3</th><td>65.7</td><td>103.52</td><td>7</td><td>74.29</td><td>55.0</td><td>78.75</td></tr></tbody></table>"
      ],
      "text/latex": [
       "\\begin{tabular}{r|cccccc}\n",
       "\t& Tutorial & TakeHome & Prefix & Assignment & Final & Midterm\\\\\n",
       "\t\\hline\n",
       "\t& Float64 & Float64? & Int64 & Float64 & Float64? & Float64\\\\\n",
       "\t\\hline\n",
       "\t1 & 70.24 & 52.41 & 6 & 95.05 & 47.78 & 52.5 \\\\\n",
       "\t2 & 58.51 & 53.7 & 6 & 28.14 & 68.33 & 72.5 \\\\\n",
       "\t3 & 65.7 & 103.52 & 7 & 74.29 & 55.0 & 78.75 \\\\\n",
       "\\end{tabular}\n"
      ],
      "text/plain": [
       "\u001b[1m3×6 DataFrame\u001b[0m\n",
       "\u001b[1m Row \u001b[0m│\u001b[1m Tutorial \u001b[0m\u001b[1m TakeHome \u001b[0m\u001b[1m Prefix \u001b[0m\u001b[1m Assignment \u001b[0m\u001b[1m Final    \u001b[0m\u001b[1m Midterm \u001b[0m\n",
       "\u001b[1m     \u001b[0m│\u001b[90m Float64  \u001b[0m\u001b[90m Float64? \u001b[0m\u001b[90m Int64  \u001b[0m\u001b[90m Float64    \u001b[0m\u001b[90m Float64? \u001b[0m\u001b[90m Float64 \u001b[0m\n",
       "─────┼───────────────────────────────────────────────────────────\n",
       "   1 │    70.24     52.41       6       95.05     47.78    52.5\n",
       "   2 │    58.51     53.7        6       28.14     68.33    72.5\n",
       "   3 │    65.7     103.52       7       74.29     55.0     78.75"
      ]
     },
     "execution_count": 45,
     "metadata": {},
     "output_type": "execute_result"
    }
   ],
   "source": [
    "using Random\n",
    "Random.seed!(1)\n",
    "df2 = df1[shuffle(axes(df1, 1)), shuffle(axes(df1, 2))];\n",
    "first(df2, 3)"
   ]
  },
  {
   "cell_type": "code",
   "execution_count": 46,
   "metadata": {},
   "outputs": [
    {
     "ename": "LoadError",
     "evalue": "ArgumentError: join function for data frames is not supported. Use innerjoin, leftjoin, rightjoin, outerjoin, semijoin, antijoin, or crossjoin",
     "output_type": "error",
     "traceback": [
      "ArgumentError: join function for data frames is not supported. Use innerjoin, leftjoin, rightjoin, outerjoin, semijoin, antijoin, or crossjoin",
      "",
      "Stacktrace:",
      " [1] join(::DataFrame, ::DataFrame; on::Array{String,1}, kind::Symbol, makeunique::Bool, indicator::Symbol, validate::Tuple{Bool,Bool}) at /Users/yusuketamai/.julia/packages/DataFrames/mlhk7/src/abstractdataframe/join.jl:1307",
      " [2] top-level scope at In[46]:1",
      " [3] include_string(::Function, ::Module, ::String, ::String) at ./loading.jl:1091"
     ]
    }
   ],
   "source": [
    "res = join(df1, df2, kind=:outer,\n",
    "            on=union(names(df1), names(df2)),\n",
    "            indicator=:check, validate=(true, true))\n",
    "unique(res.check)"
   ]
  },
  {
   "cell_type": "markdown",
   "metadata": {},
   "source": [
    "`join()`関数が廃止されているため、`join(kind=:outer)`なら`outerjoin()`で代替する。  \n",
    "また欠測がある場合`matchmissing`をデフォルトから`:equal`に帰る必要あり。"
   ]
  },
  {
   "cell_type": "code",
   "execution_count": 48,
   "metadata": {},
   "outputs": [
    {
     "data": {
      "text/plain": [
       "1-element Array{String,1}:\n",
       " \"both\""
      ]
     },
     "execution_count": 48,
     "metadata": {},
     "output_type": "execute_result"
    }
   ],
   "source": [
    "res = outerjoin(df1, df2, \n",
    "                on=union(names(df1), names(df2)),\n",
    "                indicator=:check, validate=(true, true),\n",
    "                matchmissing=:equal);\n",
    "unique(res.check)"
   ]
  },
  {
   "cell_type": "code",
   "execution_count": null,
   "metadata": {},
   "outputs": [],
   "source": []
  }
 ],
 "metadata": {
  "kernelspec": {
   "display_name": "Julia 1.5.0",
   "language": "julia",
   "name": "julia-1.5"
  },
  "language_info": {
   "file_extension": ".jl",
   "mimetype": "application/julia",
   "name": "julia",
   "version": "1.5.0"
  }
 },
 "nbformat": 4,
 "nbformat_minor": 4
}
